{
 "cells": [
  {
   "cell_type": "code",
   "execution_count": 4,
   "metadata": {
    "id": "fXVyxBYrctT_"
   },
   "outputs": [],
   "source": [
    "from qiskit import QuantumRegister, QuantumCircuit, execute, BasicAer, result"
   ]
  },
  {
   "cell_type": "code",
   "execution_count": 5,
   "metadata": {
    "id": "mOtE6pbsaxft"
   },
   "outputs": [],
   "source": [
    "def encode(circuit):\n",
    "  circuit.h(0)\n",
    "  circuit.h(1)\n",
    "  circuit.h(2)\n",
    "  circuit.cx(0,2)\n",
    "  circuit.cx(3,5)\n",
    "  circuit.cx(1,6)\n",
    "  circuit.cx(0,4)\n",
    "  circuit.cx(3,6)\n",
    "  circuit.cx(1,5)\n",
    "  circuit.cx(0,6)\n",
    "  circuit.cx(1,2)\n",
    "  circuit.cx(3,4)"
   ]
  },
  {
   "cell_type": "code",
   "execution_count": 6,
   "metadata": {
    "colab": {
     "base_uri": "https://localhost:8080/",
     "height": 70
    },
    "id": "ZE0RI_0Kcz7E",
    "outputId": "5318ef2f-377b-43f3-efe9-3776d99c35fd"
   },
   "outputs": [
    {
     "data": {
      "text/html": [
       "<pre style=\"word-wrap: normal;white-space: pre;background: #fff0;line-height: 1.1;font-family: &quot;Courier New&quot;,Courier,monospace\">     ┌───┐                                   \n",
       "q_0: ┤ H ├──■─────────■──────────────■───────\n",
       "     ├───┤  │         │              │       \n",
       "q_1: ┤ H ├──┼────■────┼─────────■────┼────■──\n",
       "     ├───┤┌─┴─┐  │    │         │    │  ┌─┴─┐\n",
       "q_2: ┤ H ├┤ X ├──┼────┼─────────┼────┼──┤ X ├\n",
       "     └───┘└───┘  │    │         │    │  └───┘\n",
       "q_3: ──■─────────┼────┼────■────┼────┼────■──\n",
       "       │         │  ┌─┴─┐  │    │    │  ┌─┴─┐\n",
       "q_4: ──┼─────────┼──┤ X ├──┼────┼────┼──┤ X ├\n",
       "     ┌─┴─┐       │  └───┘  │  ┌─┴─┐  │  └───┘\n",
       "q_5: ┤ X ├───────┼─────────┼──┤ X ├──┼───────\n",
       "     └───┘     ┌─┴─┐     ┌─┴─┐└───┘┌─┴─┐     \n",
       "q_6: ──────────┤ X ├─────┤ X ├─────┤ X ├─────\n",
       "               └───┘     └───┘     └───┘     </pre>"
      ],
      "text/plain": [
       "     ┌───┐                                   \n",
       "q_0: ┤ H ├──■─────────■──────────────■───────\n",
       "     ├───┤  │         │              │       \n",
       "q_1: ┤ H ├──┼────■────┼─────────■────┼────■──\n",
       "     ├───┤┌─┴─┐  │    │         │    │  ┌─┴─┐\n",
       "q_2: ┤ H ├┤ X ├──┼────┼─────────┼────┼──┤ X ├\n",
       "     └───┘└───┘  │    │         │    │  └───┘\n",
       "q_3: ──■─────────┼────┼────■────┼────┼────■──\n",
       "       │         │  ┌─┴─┐  │    │    │  ┌─┴─┐\n",
       "q_4: ──┼─────────┼──┤ X ├──┼────┼────┼──┤ X ├\n",
       "     ┌─┴─┐       │  └───┘  │  ┌─┴─┐  │  └───┘\n",
       "q_5: ┤ X ├───────┼─────────┼──┤ X ├──┼───────\n",
       "     └───┘     ┌─┴─┐     ┌─┴─┐└───┘┌─┴─┐     \n",
       "q_6: ──────────┤ X ├─────┤ X ├─────┤ X ├─────\n",
       "               └───┘     └───┘     └───┘     "
      ]
     },
     "execution_count": 6,
     "metadata": {},
     "output_type": "execute_result"
    }
   ],
   "source": [
    "qc = QuantumCircuit(7)\n",
    "steane(qc)\n",
    "qc.draw()"
   ]
  },
  {
   "cell_type": "code",
   "execution_count": null,
   "metadata": {},
   "outputs": [],
   "source": []
  }
 ],
 "metadata": {
  "colab": {
   "name": "Steane [[7,1,3]].ipynb",
   "provenance": []
  },
  "kernelspec": {
   "display_name": "Python 3 (ipykernel)",
   "language": "python",
   "name": "python3"
  },
  "language_info": {
   "codemirror_mode": {
    "name": "ipython",
    "version": 3
   },
   "file_extension": ".py",
   "mimetype": "text/x-python",
   "name": "python",
   "nbconvert_exporter": "python",
   "pygments_lexer": "ipython3",
   "version": "3.10.1"
  }
 },
 "nbformat": 4,
 "nbformat_minor": 1
}
