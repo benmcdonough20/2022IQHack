{
 "cells": [
  {
   "cell_type": "code",
   "execution_count": 4,
   "metadata": {
    "id": "R7DrOGwv873r"
   },
   "outputs": [],
   "source": [
    "from qiskit import QuantumRegister, QuantumCircuit\n",
    "from qiskit.circuit.library import MCMT"
   ]
  },
  {
   "cell_type": "code",
   "execution_count": 5,
   "metadata": {
    "id": "T9Mc12328V3W"
   },
   "outputs": [],
   "source": [
    "def encode(circuit):\n",
    "  for i in range(5):\n",
    "    circuit.reset(i)\n",
    "  circuit.h(0)\n",
    "  circuit.h(1)\n",
    "  circuit.h(3)\n",
    "  three_controlled_z= MCMT('z',3,1,label=None)\n",
    "  circuit.append(three_controlled_z,[1,2,3,4])\n",
    "  circuit.x(1)\n",
    "  circuit.x(3)\n",
    "  circuit.append(three_controlled_z,[1,2,3,4])\n",
    "  circuit.x(1)\n",
    "  circuit.x(3)\n",
    "  circuit.cx(2,4)\n",
    "  circuit.cnot(0,2)\n",
    "  circuit.cnot(0,4)\n",
    "  circuit.cnot(3,2)\n",
    "  circuit.cnot(1,4)\n",
    "  two_controlled_z = MCMT('z',2,1,label=None)\n",
    "  circuit.append(two_controlled_z,[3,4,2])"
   ]
  },
  {
   "cell_type": "code",
   "execution_count": 6,
   "metadata": {
    "colab": {
     "base_uri": "https://localhost:8080/",
     "height": 122
    },
    "id": "3TO3FZg79Dec",
    "outputId": "951df762-5517-4d85-bf7a-5bfe94e24a72"
   },
   "outputs": [
    {
     "data": {
      "text/html": [
       "<pre style=\"word-wrap: normal;white-space: pre;background: #fff0;line-height: 1.1;font-family: &quot;Courier New&quot;,Courier,monospace\">          ┌───┐                                                              \n",
       "q_0: ─|0>─┤ H ├───────────────────────────────────■────■─────────────────────\n",
       "          ├───┤┌───────┐┌───┐┌───────┐┌───┐       │    │                     \n",
       "q_1: ─|0>─┤ H ├┤0      ├┤ X ├┤0      ├┤ X ├───────┼────┼─────────■───────────\n",
       "          └───┘│       │└───┘│       │└───┘     ┌─┴─┐  │  ┌───┐  │  ┌───────┐\n",
       "q_2: ─|0>──────┤1      ├─────┤1      ├───────■──┤ X ├──┼──┤ X ├──┼──┤2      ├\n",
       "          ┌───┐│  mcmt │┌───┐│  mcmt │┌───┐  │  └───┘  │  └─┬─┘  │  │       │\n",
       "q_3: ─|0>─┤ H ├┤2      ├┤ X ├┤2      ├┤ X ├──┼─────────┼────■────┼──┤0 mcmt ├\n",
       "          └───┘│       │└───┘│       │└───┘┌─┴─┐     ┌─┴─┐     ┌─┴─┐│       │\n",
       "q_4: ─|0>──────┤3      ├─────┤3      ├─────┤ X ├─────┤ X ├─────┤ X ├┤1      ├\n",
       "               └───────┘     └───────┘     └───┘     └───┘     └───┘└───────┘</pre>"
      ],
      "text/plain": [
       "          ┌───┐                                                              \n",
       "q_0: ─|0>─┤ H ├───────────────────────────────────■────■─────────────────────\n",
       "          ├───┤┌───────┐┌───┐┌───────┐┌───┐       │    │                     \n",
       "q_1: ─|0>─┤ H ├┤0      ├┤ X ├┤0      ├┤ X ├───────┼────┼─────────■───────────\n",
       "          └───┘│       │└───┘│       │└───┘     ┌─┴─┐  │  ┌───┐  │  ┌───────┐\n",
       "q_2: ─|0>──────┤1      ├─────┤1      ├───────■──┤ X ├──┼──┤ X ├──┼──┤2      ├\n",
       "          ┌───┐│  mcmt │┌───┐│  mcmt │┌───┐  │  └───┘  │  └─┬─┘  │  │       │\n",
       "q_3: ─|0>─┤ H ├┤2      ├┤ X ├┤2      ├┤ X ├──┼─────────┼────■────┼──┤0 mcmt ├\n",
       "          └───┘│       │└───┘│       │└───┘┌─┴─┐     ┌─┴─┐     ┌─┴─┐│       │\n",
       "q_4: ─|0>──────┤3      ├─────┤3      ├─────┤ X ├─────┤ X ├─────┤ X ├┤1      ├\n",
       "               └───────┘     └───────┘     └───┘     └───┘     └───┘└───────┘"
      ]
     },
     "execution_count": 6,
     "metadata": {},
     "output_type": "execute_result"
    }
   ],
   "source": [
    "qc = QuantumCircuit(5)\n",
    "encode(qc)\n",
    "qc.draw()"
   ]
  },
  {
   "cell_type": "code",
   "execution_count": null,
   "metadata": {},
   "outputs": [],
   "source": []
  }
 ],
 "metadata": {
  "colab": {
   "collapsed_sections": [],
   "name": "Steane [[5,3,1]].ipynb",
   "provenance": []
  },
  "kernelspec": {
   "display_name": "Python 3 (ipykernel)",
   "language": "python",
   "name": "python3"
  },
  "language_info": {
   "codemirror_mode": {
    "name": "ipython",
    "version": 3
   },
   "file_extension": ".py",
   "mimetype": "text/x-python",
   "name": "python",
   "nbconvert_exporter": "python",
   "pygments_lexer": "ipython3",
   "version": "3.10.1"
  }
 },
 "nbformat": 4,
 "nbformat_minor": 1
}
