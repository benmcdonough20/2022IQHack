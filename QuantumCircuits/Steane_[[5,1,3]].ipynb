{
  "nbformat": 4,
  "nbformat_minor": 0,
  "metadata": {
    "colab": {
      "name": "Steane [[5,3,1]].ipynb",
      "provenance": [],
      "collapsed_sections": []
    },
    "kernelspec": {
      "name": "python3",
      "display_name": "Python 3"
    },
    "language_info": {
      "name": "python"
    }
  },
  "cells": [
    {
      "cell_type": "code",
      "source": [
        "pip install qiskit"
      ],
      "metadata": {
        "colab": {
          "base_uri": "https://localhost:8080/"
        },
        "id": "GNb_uHNT8ths",
        "outputId": "411eac2d-6dfa-4b0f-b47f-7b6f3a3b1d91"
      },
      "execution_count": 1,
      "outputs": [
        {
          "output_type": "stream",
          "name": "stdout",
          "text": [
            "Collecting qiskit\n",
            "  Downloading qiskit-0.34.1.tar.gz (13 kB)\n",
            "Collecting qiskit-terra==0.19.1\n",
            "  Downloading qiskit_terra-0.19.1-cp37-cp37m-manylinux2010_x86_64.whl (6.4 MB)\n",
            "\u001b[K     |████████████████████████████████| 6.4 MB 8.9 MB/s \n",
            "\u001b[?25hCollecting qiskit-aer==0.10.2\n",
            "  Downloading qiskit_aer-0.10.2-cp37-cp37m-manylinux_2_12_x86_64.manylinux2010_x86_64.whl (18.0 MB)\n",
            "\u001b[K     |████████████████████████████████| 18.0 MB 586 kB/s \n",
            "\u001b[?25hCollecting qiskit-ibmq-provider==0.18.3\n",
            "  Downloading qiskit_ibmq_provider-0.18.3-py3-none-any.whl (238 kB)\n",
            "\u001b[K     |████████████████████████████████| 238 kB 55.2 MB/s \n",
            "\u001b[?25hCollecting qiskit-ignis==0.7.0\n",
            "  Downloading qiskit_ignis-0.7.0-py3-none-any.whl (200 kB)\n",
            "\u001b[K     |████████████████████████████████| 200 kB 72.7 MB/s \n",
            "\u001b[?25hRequirement already satisfied: numpy>=1.16.3 in /usr/local/lib/python3.7/dist-packages (from qiskit-aer==0.10.2->qiskit) (1.19.5)\n",
            "Requirement already satisfied: scipy>=1.0 in /usr/local/lib/python3.7/dist-packages (from qiskit-aer==0.10.2->qiskit) (1.4.1)\n",
            "Requirement already satisfied: urllib3>=1.21.1 in /usr/local/lib/python3.7/dist-packages (from qiskit-ibmq-provider==0.18.3->qiskit) (1.24.3)\n",
            "Requirement already satisfied: requests>=2.19 in /usr/local/lib/python3.7/dist-packages (from qiskit-ibmq-provider==0.18.3->qiskit) (2.23.0)\n",
            "Requirement already satisfied: python-dateutil>=2.8.0 in /usr/local/lib/python3.7/dist-packages (from qiskit-ibmq-provider==0.18.3->qiskit) (2.8.2)\n",
            "Collecting requests-ntlm>=1.1.0\n",
            "  Downloading requests_ntlm-1.1.0-py2.py3-none-any.whl (5.7 kB)\n",
            "Collecting websocket-client>=1.0.1\n",
            "  Downloading websocket_client-1.2.3-py3-none-any.whl (53 kB)\n",
            "\u001b[K     |████████████████████████████████| 53 kB 2.1 MB/s \n",
            "\u001b[?25hCollecting retworkx>=0.8.0\n",
            "  Downloading retworkx-0.11.0-cp37-cp37m-manylinux_2_5_x86_64.manylinux1_x86_64.manylinux_2_12_x86_64.manylinux2010_x86_64.whl (1.6 MB)\n",
            "\u001b[K     |████████████████████████████████| 1.6 MB 54.1 MB/s \n",
            "\u001b[?25hRequirement already satisfied: setuptools>=40.1.0 in /usr/local/lib/python3.7/dist-packages (from qiskit-ignis==0.7.0->qiskit) (57.4.0)\n",
            "Requirement already satisfied: dill>=0.3 in /usr/local/lib/python3.7/dist-packages (from qiskit-terra==0.19.1->qiskit) (0.3.4)\n",
            "Collecting symengine>=0.8\n",
            "  Downloading symengine-0.8.1-cp37-cp37m-manylinux2010_x86_64.whl (38.2 MB)\n",
            "\u001b[K     |████████████████████████████████| 38.2 MB 1.3 MB/s \n",
            "\u001b[?25hCollecting scipy>=1.0\n",
            "  Downloading scipy-1.7.3-cp37-cp37m-manylinux_2_12_x86_64.manylinux2010_x86_64.whl (38.1 MB)\n",
            "\u001b[K     |████████████████████████████████| 38.1 MB 1.3 MB/s \n",
            "\u001b[?25hCollecting stevedore>=3.0.0\n",
            "  Downloading stevedore-3.5.0-py3-none-any.whl (49 kB)\n",
            "\u001b[K     |████████████████████████████████| 49 kB 5.9 MB/s \n",
            "\u001b[?25hRequirement already satisfied: sympy>=1.3 in /usr/local/lib/python3.7/dist-packages (from qiskit-terra==0.19.1->qiskit) (1.7.1)\n",
            "Collecting ply>=3.10\n",
            "  Downloading ply-3.11-py2.py3-none-any.whl (49 kB)\n",
            "\u001b[K     |████████████████████████████████| 49 kB 5.4 MB/s \n",
            "\u001b[?25hCollecting python-constraint>=1.4\n",
            "  Downloading python-constraint-1.4.0.tar.bz2 (18 kB)\n",
            "Collecting tweedledum<2.0,>=1.1\n",
            "  Downloading tweedledum-1.1.1-cp37-cp37m-manylinux_2_12_x86_64.manylinux2010_x86_64.whl (943 kB)\n",
            "\u001b[K     |████████████████████████████████| 943 kB 58.0 MB/s \n",
            "\u001b[?25hRequirement already satisfied: psutil>=5 in /usr/local/lib/python3.7/dist-packages (from qiskit-terra==0.19.1->qiskit) (5.4.8)\n",
            "Requirement already satisfied: six>=1.5 in /usr/local/lib/python3.7/dist-packages (from python-dateutil>=2.8.0->qiskit-ibmq-provider==0.18.3->qiskit) (1.15.0)\n",
            "Requirement already satisfied: chardet<4,>=3.0.2 in /usr/local/lib/python3.7/dist-packages (from requests>=2.19->qiskit-ibmq-provider==0.18.3->qiskit) (3.0.4)\n",
            "Requirement already satisfied: idna<3,>=2.5 in /usr/local/lib/python3.7/dist-packages (from requests>=2.19->qiskit-ibmq-provider==0.18.3->qiskit) (2.10)\n",
            "Requirement already satisfied: certifi>=2017.4.17 in /usr/local/lib/python3.7/dist-packages (from requests>=2.19->qiskit-ibmq-provider==0.18.3->qiskit) (2021.10.8)\n",
            "Collecting ntlm-auth>=1.0.2\n",
            "  Downloading ntlm_auth-1.5.0-py2.py3-none-any.whl (29 kB)\n",
            "Collecting cryptography>=1.3\n",
            "  Downloading cryptography-36.0.1-cp36-abi3-manylinux_2_24_x86_64.whl (3.6 MB)\n",
            "\u001b[K     |████████████████████████████████| 3.6 MB 45.7 MB/s \n",
            "\u001b[?25hRequirement already satisfied: cffi>=1.12 in /usr/local/lib/python3.7/dist-packages (from cryptography>=1.3->requests-ntlm>=1.1.0->qiskit-ibmq-provider==0.18.3->qiskit) (1.15.0)\n",
            "Requirement already satisfied: pycparser in /usr/local/lib/python3.7/dist-packages (from cffi>=1.12->cryptography>=1.3->requests-ntlm>=1.1.0->qiskit-ibmq-provider==0.18.3->qiskit) (2.21)\n",
            "Requirement already satisfied: importlib-metadata>=1.7.0 in /usr/local/lib/python3.7/dist-packages (from stevedore>=3.0.0->qiskit-terra==0.19.1->qiskit) (4.10.1)\n",
            "Collecting pbr!=2.1.0,>=2.0.0\n",
            "  Downloading pbr-5.8.0-py2.py3-none-any.whl (112 kB)\n",
            "\u001b[K     |████████████████████████████████| 112 kB 62.1 MB/s \n",
            "\u001b[?25hRequirement already satisfied: zipp>=0.5 in /usr/local/lib/python3.7/dist-packages (from importlib-metadata>=1.7.0->stevedore>=3.0.0->qiskit-terra==0.19.1->qiskit) (3.7.0)\n",
            "Requirement already satisfied: typing-extensions>=3.6.4 in /usr/local/lib/python3.7/dist-packages (from importlib-metadata>=1.7.0->stevedore>=3.0.0->qiskit-terra==0.19.1->qiskit) (3.10.0.2)\n",
            "Requirement already satisfied: mpmath>=0.19 in /usr/local/lib/python3.7/dist-packages (from sympy>=1.3->qiskit-terra==0.19.1->qiskit) (1.2.1)\n",
            "Building wheels for collected packages: qiskit, python-constraint\n",
            "  Building wheel for qiskit (setup.py) ... \u001b[?25l\u001b[?25hdone\n",
            "  Created wheel for qiskit: filename=qiskit-0.34.1-py3-none-any.whl size=11771 sha256=712f408d0bed1b99945b528d88eb6d082fc122d65ef1773b213cee6413b64a84\n",
            "  Stored in directory: /root/.cache/pip/wheels/79/b1/3f/8cdfd5543a84705e4bd16e081f2362b9b3bfd9898d2e2d4150\n",
            "  Building wheel for python-constraint (setup.py) ... \u001b[?25l\u001b[?25hdone\n",
            "  Created wheel for python-constraint: filename=python_constraint-1.4.0-py2.py3-none-any.whl size=24081 sha256=328d505e458f253f3783e1fe4ccc6203820bd15ddacb35517036e356b3d0cab4\n",
            "  Stored in directory: /root/.cache/pip/wheels/07/27/db/1222c80eb1e431f3d2199c12569cb1cac60f562a451fe30479\n",
            "Successfully built qiskit python-constraint\n",
            "Installing collected packages: pbr, tweedledum, symengine, stevedore, scipy, retworkx, python-constraint, ply, ntlm-auth, cryptography, websocket-client, requests-ntlm, qiskit-terra, qiskit-ignis, qiskit-ibmq-provider, qiskit-aer, qiskit\n",
            "  Attempting uninstall: scipy\n",
            "    Found existing installation: scipy 1.4.1\n",
            "    Uninstalling scipy-1.4.1:\n",
            "      Successfully uninstalled scipy-1.4.1\n",
            "\u001b[31mERROR: pip's dependency resolver does not currently take into account all the packages that are installed. This behaviour is the source of the following dependency conflicts.\n",
            "albumentations 0.1.12 requires imgaug<0.2.7,>=0.2.5, but you have imgaug 0.2.9 which is incompatible.\u001b[0m\n",
            "Successfully installed cryptography-36.0.1 ntlm-auth-1.5.0 pbr-5.8.0 ply-3.11 python-constraint-1.4.0 qiskit-0.34.1 qiskit-aer-0.10.2 qiskit-ibmq-provider-0.18.3 qiskit-ignis-0.7.0 qiskit-terra-0.19.1 requests-ntlm-1.1.0 retworkx-0.11.0 scipy-1.7.3 stevedore-3.5.0 symengine-0.8.1 tweedledum-1.1.1 websocket-client-1.2.3\n"
          ]
        }
      ]
    },
    {
      "cell_type": "code",
      "source": [
        "from qiskit import QuantumRegister, QuantumCircuit\n",
        "from qiskit.circuit.library import MCMT"
      ],
      "metadata": {
        "id": "R7DrOGwv873r"
      },
      "execution_count": 2,
      "outputs": []
    },
    {
      "cell_type": "code",
      "execution_count": 3,
      "metadata": {
        "id": "T9Mc12328V3W"
      },
      "outputs": [],
      "source": [
        "def steane(circuit):\n",
        "  for i in range(5):\n",
        "    circuit.reset(i)\n",
        "  circuit.h(0)\n",
        "  circuit.h(1)\n",
        "  circuit.h(3)\n",
        "  three_controlled_z= MCMT('z',3,1,label=None)\n",
        "  circuit.append(three_controlled_z,[1,2,3,4])\n",
        "  circuit.x(1)\n",
        "  circuit.x(3)\n",
        "  circuit.append(three_controlled_z,[1,2,3,4])\n",
        "  circuit.x(1)\n",
        "  circuit.x(3)\n",
        "  circuit.cx(2,4)\n",
        "  circuit.cnot(0,2)\n",
        "  circuit.cnot(0,4)\n",
        "  circuit.cnot(3,2)\n",
        "  circuit.cnot(1,4)\n",
        "  two_controlled_z = MCMT('z',2,1,label=None)\n",
        "  circuit.append(two_controlled_z,[3,4,2])"
      ]
    },
    {
      "cell_type": "code",
      "source": [
        "reg = QuantumRegister(5,'q')\n",
        "qc = QuantumCircuit(reg)\n",
        "steane(qc)\n",
        "qc.qasm()"
      ],
      "metadata": {
        "colab": {
          "base_uri": "https://localhost:8080/",
          "height": 122
        },
        "id": "3TO3FZg79Dec",
        "outputId": "951df762-5517-4d85-bf7a-5bfe94e24a72"
      },
      "execution_count": 4,
      "outputs": [
        {
          "output_type": "execute_result",
          "data": {
            "application/vnd.google.colaboratory.intrinsic+json": {
              "type": "string"
            },
            "text/plain": [
              "'OPENQASM 2.0;\\ninclude \"qelib1.inc\";\\ngate ccz q0,q1,q2 { p(pi/4) q1; p(pi/4) q2; cx q1,q2; u(0,0,-pi/4) q2; cx q1,q2; u(0,0,0) q2; cx q1,q0; p(-pi/4) q0; p(pi/4) q2; cx q0,q2; u(0,0,pi/4) q2; cx q0,q2; u(0,-pi/2,0) q2; cx q1,q0; p(pi/4) q0; p(pi/4) q2; cx q0,q2; u(0,0,-pi/4) q2; cx q0,q2; u(0,0,0) q2; }\\ngate c3z q0,q1,q2,q3 { p(pi/8) q2; p(pi/8) q3; cx q2,q3; u(0,0,-pi/8) q3; cx q2,q3; u(0,0,0) q3; cx q2,q1; p(-pi/8) q1; p(pi/8) q3; cx q1,q3; u(0,0,pi/8) q3; cx q1,q3; u(0,-pi/4,0) q3; cx q2,q1; p(pi/8) q1; p(pi/8) q3; cx q1,q3; u(0,0,-pi/8) q3; cx q1,q3; u(0,0,0) q3; cx q1,q0; p(-pi/8) q0; p(pi/8) q3; cx q0,q3; u(0,0,pi/8) q3; cx q0,q3; u(0,-pi/4,0) q3; cx q2,q0; p(pi/8) q0; p(pi/8) q3; cx q0,q3; u(0,0,-pi/8) q3; cx q0,q3; u(0,0,0) q3; cx q1,q0; p(-pi/8) q0; p(pi/8) q3; cx q0,q3; u(0,0,pi/8) q3; cx q0,q3; u(0,-pi/4,0) q3; cx q2,q0; p(pi/8) q0; p(pi/8) q3; cx q0,q3; u(0,0,-pi/8) q3; cx q0,q3; u(0,0,0) q3; }\\ngate mcmt q0,q1,q2,q3 { c3z q0,q1,q2,q3; }\\ngate mcmt_139622135406864 q0,q1,q2 { ccz q0,q1,q2; }\\nqreg q[5];\\nreset q[0];\\nreset q[1];\\nreset q[2];\\nreset q[3];\\nreset q[4];\\nh q[0];\\nh q[1];\\nh q[3];\\nmcmt q[1],q[2],q[3],q[4];\\nx q[1];\\nx q[3];\\nmcmt q[1],q[2],q[3],q[4];\\nx q[1];\\nx q[3];\\ncx q[2],q[4];\\ncx q[0],q[2];\\ncx q[0],q[4];\\ncx q[3],q[2];\\ncx q[1],q[4];\\nmcmt_139622135406864 q[3],q[4],q[2];\\n'"
            ]
          },
          "metadata": {},
          "execution_count": 4
        }
      ]
    },
    {
      "cell_type": "code",
      "source": [
        "qc.draw()"
      ],
      "metadata": {
        "colab": {
          "base_uri": "https://localhost:8080/",
          "height": 186
        },
        "id": "ZtwUa30F9PZm",
        "outputId": "b86ae3a6-9e66-43f7-d794-0e429cd938c0"
      },
      "execution_count": 5,
      "outputs": [
        {
          "output_type": "execute_result",
          "data": {
            "text/html": [
              "<pre style=\"word-wrap: normal;white-space: pre;background: #fff0;line-height: 1.1;font-family: &quot;Courier New&quot;,Courier,monospace\">          ┌───┐                                                              \n",
              "q_0: ─|0>─┤ H ├───────────────────────────────────■────■─────────────────────\n",
              "          ├───┤┌───────┐┌───┐┌───────┐┌───┐       │    │                     \n",
              "q_1: ─|0>─┤ H ├┤0      ├┤ X ├┤0      ├┤ X ├───────┼────┼─────────■───────────\n",
              "          └───┘│       │└───┘│       │└───┘     ┌─┴─┐  │  ┌───┐  │  ┌───────┐\n",
              "q_2: ─|0>──────┤1      ├─────┤1      ├───────■──┤ X ├──┼──┤ X ├──┼──┤2      ├\n",
              "          ┌───┐│  mcmt │┌───┐│  mcmt │┌───┐  │  └───┘  │  └─┬─┘  │  │       │\n",
              "q_3: ─|0>─┤ H ├┤2      ├┤ X ├┤2      ├┤ X ├──┼─────────┼────■────┼──┤0 mcmt ├\n",
              "          └───┘│       │└───┘│       │└───┘┌─┴─┐     ┌─┴─┐     ┌─┴─┐│       │\n",
              "q_4: ─|0>──────┤3      ├─────┤3      ├─────┤ X ├─────┤ X ├─────┤ X ├┤1      ├\n",
              "               └───────┘     └───────┘     └───┘     └───┘     └───┘└───────┘</pre>"
            ],
            "text/plain": [
              "          ┌───┐                                                              \n",
              "q_0: ─|0>─┤ H ├───────────────────────────────────■────■─────────────────────\n",
              "          ├───┤┌───────┐┌───┐┌───────┐┌───┐       │    │                     \n",
              "q_1: ─|0>─┤ H ├┤0      ├┤ X ├┤0      ├┤ X ├───────┼────┼─────────■───────────\n",
              "          └───┘│       │└───┘│       │└───┘     ┌─┴─┐  │  ┌───┐  │  ┌───────┐\n",
              "q_2: ─|0>──────┤1      ├─────┤1      ├───────■──┤ X ├──┼──┤ X ├──┼──┤2      ├\n",
              "          ┌───┐│  mcmt │┌───┐│  mcmt │┌───┐  │  └───┘  │  └─┬─┘  │  │       │\n",
              "q_3: ─|0>─┤ H ├┤2      ├┤ X ├┤2      ├┤ X ├──┼─────────┼────■────┼──┤0 mcmt ├\n",
              "          └───┘│       │└───┘│       │└───┘┌─┴─┐     ┌─┴─┐     ┌─┴─┐│       │\n",
              "q_4: ─|0>──────┤3      ├─────┤3      ├─────┤ X ├─────┤ X ├─────┤ X ├┤1      ├\n",
              "               └───────┘     └───────┘     └───┘     └───┘     └───┘└───────┘"
            ]
          },
          "metadata": {},
          "execution_count": 5
        }
      ]
    },
    {
      "cell_type": "code",
      "source": [
        "pip install quantuminspire"
      ],
      "metadata": {
        "colab": {
          "base_uri": "https://localhost:8080/"
        },
        "id": "4LUSBTmrFl0G",
        "outputId": "c25deb6a-64ff-46fd-c335-480a9089f67c"
      },
      "execution_count": 6,
      "outputs": [
        {
          "output_type": "stream",
          "name": "stdout",
          "text": [
            "Collecting quantuminspire\n",
            "  Downloading quantuminspire-1.7.0.tar.gz (48 kB)\n",
            "\u001b[K     |████████████████████████████████| 48 kB 4.0 MB/s \n",
            "\u001b[?25hCollecting coverage>=4.5.1\n",
            "  Downloading coverage-6.3-cp37-cp37m-manylinux_2_5_x86_64.manylinux1_x86_64.manylinux_2_17_x86_64.manylinux2014_x86_64.whl (207 kB)\n",
            "\u001b[K     |████████████████████████████████| 207 kB 31.3 MB/s \n",
            "\u001b[?25hRequirement already satisfied: matplotlib>=2.1 in /usr/local/lib/python3.7/dist-packages (from quantuminspire) (3.2.2)\n",
            "Collecting pylatexenc\n",
            "  Downloading pylatexenc-2.10.tar.gz (162 kB)\n",
            "\u001b[K     |████████████████████████████████| 162 kB 46.4 MB/s \n",
            "\u001b[?25hCollecting coreapi>=2.3.3\n",
            "  Downloading coreapi-2.3.3-py2.py3-none-any.whl (25 kB)\n",
            "Requirement already satisfied: numpy>=1.17 in /usr/local/lib/python3.7/dist-packages (from quantuminspire) (1.19.5)\n",
            "Requirement already satisfied: jupyter in /usr/local/lib/python3.7/dist-packages (from quantuminspire) (1.0.0)\n",
            "Collecting nbimporter\n",
            "  Downloading nbimporter-0.3.4-py3-none-any.whl (4.9 kB)\n",
            "Requirement already satisfied: sklearn in /usr/local/lib/python3.7/dist-packages (from quantuminspire) (0.0)\n",
            "Collecting itypes\n",
            "  Downloading itypes-1.2.0-py2.py3-none-any.whl (4.8 kB)\n",
            "Collecting coreschema\n",
            "  Downloading coreschema-0.0.4.tar.gz (10 kB)\n",
            "Requirement already satisfied: requests in /usr/local/lib/python3.7/dist-packages (from coreapi>=2.3.3->quantuminspire) (2.23.0)\n",
            "Requirement already satisfied: uritemplate in /usr/local/lib/python3.7/dist-packages (from coreapi>=2.3.3->quantuminspire) (3.0.1)\n",
            "Requirement already satisfied: kiwisolver>=1.0.1 in /usr/local/lib/python3.7/dist-packages (from matplotlib>=2.1->quantuminspire) (1.3.2)\n",
            "Requirement already satisfied: python-dateutil>=2.1 in /usr/local/lib/python3.7/dist-packages (from matplotlib>=2.1->quantuminspire) (2.8.2)\n",
            "Requirement already satisfied: pyparsing!=2.0.4,!=2.1.2,!=2.1.6,>=2.0.1 in /usr/local/lib/python3.7/dist-packages (from matplotlib>=2.1->quantuminspire) (3.0.7)\n",
            "Requirement already satisfied: cycler>=0.10 in /usr/local/lib/python3.7/dist-packages (from matplotlib>=2.1->quantuminspire) (0.11.0)\n",
            "Requirement already satisfied: six>=1.5 in /usr/local/lib/python3.7/dist-packages (from python-dateutil>=2.1->matplotlib>=2.1->quantuminspire) (1.15.0)\n",
            "Requirement already satisfied: jinja2 in /usr/local/lib/python3.7/dist-packages (from coreschema->coreapi>=2.3.3->quantuminspire) (2.11.3)\n",
            "Requirement already satisfied: MarkupSafe>=0.23 in /usr/local/lib/python3.7/dist-packages (from jinja2->coreschema->coreapi>=2.3.3->quantuminspire) (2.0.1)\n",
            "Requirement already satisfied: notebook in /usr/local/lib/python3.7/dist-packages (from jupyter->quantuminspire) (5.3.1)\n",
            "Requirement already satisfied: jupyter-console in /usr/local/lib/python3.7/dist-packages (from jupyter->quantuminspire) (5.2.0)\n",
            "Requirement already satisfied: ipywidgets in /usr/local/lib/python3.7/dist-packages (from jupyter->quantuminspire) (7.6.5)\n",
            "Requirement already satisfied: nbconvert in /usr/local/lib/python3.7/dist-packages (from jupyter->quantuminspire) (5.6.1)\n",
            "Requirement already satisfied: ipykernel in /usr/local/lib/python3.7/dist-packages (from jupyter->quantuminspire) (4.10.1)\n",
            "Requirement already satisfied: qtconsole in /usr/local/lib/python3.7/dist-packages (from jupyter->quantuminspire) (5.2.2)\n",
            "Requirement already satisfied: jupyter-client in /usr/local/lib/python3.7/dist-packages (from ipykernel->jupyter->quantuminspire) (5.3.5)\n",
            "Requirement already satisfied: traitlets>=4.1.0 in /usr/local/lib/python3.7/dist-packages (from ipykernel->jupyter->quantuminspire) (5.1.1)\n",
            "Requirement already satisfied: ipython>=4.0.0 in /usr/local/lib/python3.7/dist-packages (from ipykernel->jupyter->quantuminspire) (5.5.0)\n",
            "Requirement already satisfied: tornado>=4.0 in /usr/local/lib/python3.7/dist-packages (from ipykernel->jupyter->quantuminspire) (5.1.1)\n",
            "Requirement already satisfied: pickleshare in /usr/local/lib/python3.7/dist-packages (from ipython>=4.0.0->ipykernel->jupyter->quantuminspire) (0.7.5)\n",
            "Requirement already satisfied: decorator in /usr/local/lib/python3.7/dist-packages (from ipython>=4.0.0->ipykernel->jupyter->quantuminspire) (4.4.2)\n",
            "Requirement already satisfied: pexpect in /usr/local/lib/python3.7/dist-packages (from ipython>=4.0.0->ipykernel->jupyter->quantuminspire) (4.8.0)\n",
            "Requirement already satisfied: setuptools>=18.5 in /usr/local/lib/python3.7/dist-packages (from ipython>=4.0.0->ipykernel->jupyter->quantuminspire) (57.4.0)\n",
            "Requirement already satisfied: simplegeneric>0.8 in /usr/local/lib/python3.7/dist-packages (from ipython>=4.0.0->ipykernel->jupyter->quantuminspire) (0.8.1)\n",
            "Requirement already satisfied: pygments in /usr/local/lib/python3.7/dist-packages (from ipython>=4.0.0->ipykernel->jupyter->quantuminspire) (2.6.1)\n",
            "Requirement already satisfied: prompt-toolkit<2.0.0,>=1.0.4 in /usr/local/lib/python3.7/dist-packages (from ipython>=4.0.0->ipykernel->jupyter->quantuminspire) (1.0.18)\n",
            "Requirement already satisfied: wcwidth in /usr/local/lib/python3.7/dist-packages (from prompt-toolkit<2.0.0,>=1.0.4->ipython>=4.0.0->ipykernel->jupyter->quantuminspire) (0.2.5)\n",
            "Requirement already satisfied: widgetsnbextension~=3.5.0 in /usr/local/lib/python3.7/dist-packages (from ipywidgets->jupyter->quantuminspire) (3.5.2)\n",
            "Requirement already satisfied: jupyterlab-widgets>=1.0.0 in /usr/local/lib/python3.7/dist-packages (from ipywidgets->jupyter->quantuminspire) (1.0.2)\n",
            "Requirement already satisfied: nbformat>=4.2.0 in /usr/local/lib/python3.7/dist-packages (from ipywidgets->jupyter->quantuminspire) (5.1.3)\n",
            "Requirement already satisfied: ipython-genutils~=0.2.0 in /usr/local/lib/python3.7/dist-packages (from ipywidgets->jupyter->quantuminspire) (0.2.0)\n",
            "Requirement already satisfied: jsonschema!=2.5.0,>=2.4 in /usr/local/lib/python3.7/dist-packages (from nbformat>=4.2.0->ipywidgets->jupyter->quantuminspire) (4.3.3)\n",
            "Requirement already satisfied: jupyter-core in /usr/local/lib/python3.7/dist-packages (from nbformat>=4.2.0->ipywidgets->jupyter->quantuminspire) (4.9.1)\n",
            "Requirement already satisfied: importlib-resources>=1.4.0 in /usr/local/lib/python3.7/dist-packages (from jsonschema!=2.5.0,>=2.4->nbformat>=4.2.0->ipywidgets->jupyter->quantuminspire) (5.4.0)\n",
            "Requirement already satisfied: attrs>=17.4.0 in /usr/local/lib/python3.7/dist-packages (from jsonschema!=2.5.0,>=2.4->nbformat>=4.2.0->ipywidgets->jupyter->quantuminspire) (21.4.0)\n",
            "Requirement already satisfied: pyrsistent!=0.17.0,!=0.17.1,!=0.17.2,>=0.14.0 in /usr/local/lib/python3.7/dist-packages (from jsonschema!=2.5.0,>=2.4->nbformat>=4.2.0->ipywidgets->jupyter->quantuminspire) (0.18.1)\n",
            "Requirement already satisfied: importlib-metadata in /usr/local/lib/python3.7/dist-packages (from jsonschema!=2.5.0,>=2.4->nbformat>=4.2.0->ipywidgets->jupyter->quantuminspire) (4.10.1)\n",
            "Requirement already satisfied: typing-extensions in /usr/local/lib/python3.7/dist-packages (from jsonschema!=2.5.0,>=2.4->nbformat>=4.2.0->ipywidgets->jupyter->quantuminspire) (3.10.0.2)\n",
            "Requirement already satisfied: zipp>=3.1.0 in /usr/local/lib/python3.7/dist-packages (from importlib-resources>=1.4.0->jsonschema!=2.5.0,>=2.4->nbformat>=4.2.0->ipywidgets->jupyter->quantuminspire) (3.7.0)\n",
            "Requirement already satisfied: Send2Trash in /usr/local/lib/python3.7/dist-packages (from notebook->jupyter->quantuminspire) (1.8.0)\n",
            "Requirement already satisfied: terminado>=0.8.1 in /usr/local/lib/python3.7/dist-packages (from notebook->jupyter->quantuminspire) (0.12.1)\n",
            "Requirement already satisfied: pyzmq>=13 in /usr/local/lib/python3.7/dist-packages (from jupyter-client->ipykernel->jupyter->quantuminspire) (22.3.0)\n",
            "Requirement already satisfied: ptyprocess in /usr/local/lib/python3.7/dist-packages (from terminado>=0.8.1->notebook->jupyter->quantuminspire) (0.7.0)\n",
            "Requirement already satisfied: pandocfilters>=1.4.1 in /usr/local/lib/python3.7/dist-packages (from nbconvert->jupyter->quantuminspire) (1.5.0)\n",
            "Requirement already satisfied: testpath in /usr/local/lib/python3.7/dist-packages (from nbconvert->jupyter->quantuminspire) (0.5.0)\n",
            "Requirement already satisfied: bleach in /usr/local/lib/python3.7/dist-packages (from nbconvert->jupyter->quantuminspire) (4.1.0)\n",
            "Requirement already satisfied: defusedxml in /usr/local/lib/python3.7/dist-packages (from nbconvert->jupyter->quantuminspire) (0.7.1)\n",
            "Requirement already satisfied: mistune<2,>=0.8.1 in /usr/local/lib/python3.7/dist-packages (from nbconvert->jupyter->quantuminspire) (0.8.4)\n",
            "Requirement already satisfied: entrypoints>=0.2.2 in /usr/local/lib/python3.7/dist-packages (from nbconvert->jupyter->quantuminspire) (0.3)\n",
            "Requirement already satisfied: packaging in /usr/local/lib/python3.7/dist-packages (from bleach->nbconvert->jupyter->quantuminspire) (21.3)\n",
            "Requirement already satisfied: webencodings in /usr/local/lib/python3.7/dist-packages (from bleach->nbconvert->jupyter->quantuminspire) (0.5.1)\n",
            "Requirement already satisfied: qtpy in /usr/local/lib/python3.7/dist-packages (from qtconsole->jupyter->quantuminspire) (2.0.0)\n",
            "Requirement already satisfied: urllib3!=1.25.0,!=1.25.1,<1.26,>=1.21.1 in /usr/local/lib/python3.7/dist-packages (from requests->coreapi>=2.3.3->quantuminspire) (1.24.3)\n",
            "Requirement already satisfied: certifi>=2017.4.17 in /usr/local/lib/python3.7/dist-packages (from requests->coreapi>=2.3.3->quantuminspire) (2021.10.8)\n",
            "Requirement already satisfied: idna<3,>=2.5 in /usr/local/lib/python3.7/dist-packages (from requests->coreapi>=2.3.3->quantuminspire) (2.10)\n",
            "Requirement already satisfied: chardet<4,>=3.0.2 in /usr/local/lib/python3.7/dist-packages (from requests->coreapi>=2.3.3->quantuminspire) (3.0.4)\n",
            "Requirement already satisfied: scikit-learn in /usr/local/lib/python3.7/dist-packages (from sklearn->quantuminspire) (1.0.2)\n",
            "Requirement already satisfied: threadpoolctl>=2.0.0 in /usr/local/lib/python3.7/dist-packages (from scikit-learn->sklearn->quantuminspire) (3.0.0)\n",
            "Requirement already satisfied: scipy>=1.1.0 in /usr/local/lib/python3.7/dist-packages (from scikit-learn->sklearn->quantuminspire) (1.7.3)\n",
            "Requirement already satisfied: joblib>=0.11 in /usr/local/lib/python3.7/dist-packages (from scikit-learn->sklearn->quantuminspire) (1.1.0)\n",
            "Building wheels for collected packages: quantuminspire, coreschema, pylatexenc\n",
            "  Building wheel for quantuminspire (setup.py) ... \u001b[?25l\u001b[?25hdone\n",
            "  Created wheel for quantuminspire: filename=quantuminspire-1.7.0-py3-none-any.whl size=52132 sha256=54da681543c5b97b39d84f55bc93cb49bebc3c32dd6ba953b89d24b00816b1f0\n",
            "  Stored in directory: /root/.cache/pip/wheels/74/ec/41/80206131a3a29080f7e3ffbe2958761deaf2a2985f180c2af3\n",
            "  Building wheel for coreschema (setup.py) ... \u001b[?25l\u001b[?25hdone\n",
            "  Created wheel for coreschema: filename=coreschema-0.0.4-py3-none-any.whl size=15029 sha256=535f700e702366ea209be96da0335e932aa905be4daa7c88db00adc43e7bec1b\n",
            "  Stored in directory: /root/.cache/pip/wheels/29/28/77/73539fe0ce161da7a571cd8278a9296adbda257406bb6f100d\n",
            "  Building wheel for pylatexenc (setup.py) ... \u001b[?25l\u001b[?25hdone\n",
            "  Created wheel for pylatexenc: filename=pylatexenc-2.10-py3-none-any.whl size=136835 sha256=0c6cb4db4f4d61435050b5cd5dd49d96dcca6abb751f0d560c0187f9fc89e22f\n",
            "  Stored in directory: /root/.cache/pip/wheels/f1/8a/f5/33ee79d4473eb201b519fa40f989b842e373237395a3421f52\n",
            "Successfully built quantuminspire coreschema pylatexenc\n",
            "Installing collected packages: itypes, coreschema, pylatexenc, nbimporter, coverage, coreapi, quantuminspire\n",
            "  Attempting uninstall: coverage\n",
            "    Found existing installation: coverage 3.7.1\n",
            "    Uninstalling coverage-3.7.1:\n",
            "      Successfully uninstalled coverage-3.7.1\n",
            "\u001b[31mERROR: pip's dependency resolver does not currently take into account all the packages that are installed. This behaviour is the source of the following dependency conflicts.\n",
            "datascience 0.10.6 requires coverage==3.7.1, but you have coverage 6.3 which is incompatible.\n",
            "datascience 0.10.6 requires folium==0.2.1, but you have folium 0.8.3 which is incompatible.\n",
            "coveralls 0.5 requires coverage<3.999,>=3.6, but you have coverage 6.3 which is incompatible.\u001b[0m\n",
            "Successfully installed coreapi-2.3.3 coreschema-0.0.4 coverage-6.3 itypes-1.2.0 nbimporter-0.3.4 pylatexenc-2.10 quantuminspire-1.7.0\n"
          ]
        }
      ]
    },
    {
      "cell_type": "code",
      "source": [
        "from quantuminspire.credentials import save_account\n",
        "save_account('b5b1bf0c6f2acce372c55176400f7e893e18021b')\n",
        "from quantuminspire.qiskit import QI\n",
        "QI.set_authentication()\n",
        "qi_backend = QI.get_backend('Starmon-5')\n",
        "from qiskit import execute, BasicAer, result\n",
        "backend = BasicAer.get_backend('qasm_simulator')"
      ],
      "metadata": {
        "id": "_nNMrIxmFdhn"
      },
      "execution_count": 7,
      "outputs": []
    },
    {
      "cell_type": "code",
      "source": [
        "qc.measure_all()\n",
        "job = execute(qc, backend, shots=1024)\n",
        "result_counts = job.result().get_counts()\n",
        "print(result_counts)"
      ],
      "metadata": {
        "colab": {
          "base_uri": "https://localhost:8080/"
        },
        "id": "bpQf8GbUFOfM",
        "outputId": "7d7d1807-5a9a-42ca-a7b3-52503475db5d"
      },
      "execution_count": 8,
      "outputs": [
        {
          "output_type": "stream",
          "name": "stdout",
          "text": [
            "{'01100': 143, '11110': 131, '11001': 128, '00000': 139, '10010': 136, '10101': 102, '00111': 110, '01011': 135}\n"
          ]
        }
      ]
    },
    {
      "cell_type": "code",
      "source": [
        ""
      ],
      "metadata": {
        "id": "yskapqARHF00"
      },
      "execution_count": 8,
      "outputs": []
    }
  ]
}