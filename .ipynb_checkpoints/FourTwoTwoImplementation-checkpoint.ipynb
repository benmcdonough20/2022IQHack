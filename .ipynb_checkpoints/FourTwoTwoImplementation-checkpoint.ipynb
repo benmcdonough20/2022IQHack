{
 "cells": [
  {
   "cell_type": "markdown",
   "id": "3c173c6f",
   "metadata": {},
   "source": [
    "# [4,2,2] Code"
   ]
  },
  {
   "cell_type": "code",
   "execution_count": 38,
   "id": "c1b47f86",
   "metadata": {},
   "outputs": [],
   "source": [
    "from qiskit import QuantumCircuit\n",
    "from qiskit.circuit.library import XGate, ZGate"
   ]
  },
  {
   "cell_type": "code",
   "execution_count": 112,
   "id": "ee2ea23f",
   "metadata": {},
   "outputs": [],
   "source": [
    "def meas_sx(starmon):\n",
    "    starmon.h(0)\n",
    "    starmon.cx(0,1)\n",
    "    starmon.cx(0,2)\n",
    "    starmon.cx(0,3)\n",
    "    starmon.cx(0,4)\n",
    "    starmon.h(0)\n",
    "    starmon.measure(0,1)\n",
    "    \n",
    "def meas_sz(starmon):\n",
    "    starmon.cx(1,0)\n",
    "    starmon.cx(2,0)\n",
    "    starmon.cx(3,0)\n",
    "    starmon.cx(4,0)\n",
    "    starmon.measure(0,1)\n",
    "    \n",
    "def Xa(starmon):\n",
    "    starmon.x([1,3])\n",
    "    starmon.i([2,4])\n",
    "\n",
    "def Xb(starmon):\n",
    "    starmon.x([1,2])\n",
    "    starmon.i([3,4])\n",
    "    \n",
    "def Za(starmon):\n",
    "    starmon.z([1,2])\n",
    "    starmon.i([3,4])\n",
    "    \n",
    "def Zb(starmon):\n",
    "    starmon.z([1,3])\n",
    "    starmon.i([2,4])\n",
    "    \n",
    "def prep_zero(starmon):\n",
    "    starmon.h(0)\n",
    "    starmon.cx(0,2)\n",
    "    starmon.cx(0,3)\n",
    "    starmon.cx(0,4)\n",
    "    starmon.swap(0,1)\n",
    "    \n",
    "def prep_zeroplus(starmon):\n",
    "    starmon.h(0)\n",
    "    starmon.cx(0,1)\n",
    "    starmon.swap(0,1)"
   ]
  },
  {
   "cell_type": "code",
   "execution_count": 113,
   "id": "de03bcd2",
   "metadata": {},
   "outputs": [
    {
     "data": {
      "text/html": [
       "<pre style=\"word-wrap: normal;white-space: pre;background: #fff0;line-height: 1.1;font-family: &quot;Courier New&quot;,Courier,monospace\">          ┌───┐┌───┐┌───┐┌───┐┌─┐\n",
       "q_0: ─|0>─┤ X ├┤ X ├┤ X ├┤ X ├┤M├\n",
       "          └─┬─┘└─┬─┘└─┬─┘└─┬─┘└╥┘\n",
       "q_1: ─|0>───■────┼────┼────┼───╫─\n",
       "                 │    │    │   ║ \n",
       "q_2: ─|0>────────■────┼────┼───╫─\n",
       "                      │    │   ║ \n",
       "q_3: ─|0>─────────────■────┼───╫─\n",
       "                           │   ║ \n",
       "q_4: ─|0>──────────────────■───╫─\n",
       "                               ║ \n",
       "c: 5/══════════════════════════╩═\n",
       "                               1 </pre>"
      ],
      "text/plain": [
       "          ┌───┐┌───┐┌───┐┌───┐┌─┐\n",
       "q_0: ─|0>─┤ X ├┤ X ├┤ X ├┤ X ├┤M├\n",
       "          └─┬─┘└─┬─┘└─┬─┘└─┬─┘└╥┘\n",
       "q_1: ─|0>───■────┼────┼────┼───╫─\n",
       "                 │    │    │   ║ \n",
       "q_2: ─|0>────────■────┼────┼───╫─\n",
       "                      │    │   ║ \n",
       "q_3: ─|0>─────────────■────┼───╫─\n",
       "                           │   ║ \n",
       "q_4: ─|0>──────────────────■───╫─\n",
       "                               ║ \n",
       "c: 5/══════════════════════════╩═\n",
       "                               1 "
      ]
     },
     "execution_count": 113,
     "metadata": {},
     "output_type": "execute_result"
    }
   ],
   "source": [
    "starmon = QuantumCircuit(5,5)\n",
    "starmon.reset(range(5))\n",
    "meas_sz(starmon)\n",
    "starmon.draw()"
   ]
  },
  {
   "cell_type": "code",
   "execution_count": null,
   "id": "0c95ad0f",
   "metadata": {},
   "outputs": [],
   "source": []
  }
 ],
 "metadata": {
  "kernelspec": {
   "display_name": "Python 3 (ipykernel)",
   "language": "python",
   "name": "python3"
  },
  "language_info": {
   "codemirror_mode": {
    "name": "ipython",
    "version": 3
   },
   "file_extension": ".py",
   "mimetype": "text/x-python",
   "name": "python",
   "nbconvert_exporter": "python",
   "pygments_lexer": "ipython3",
   "version": "3.10.1"
  }
 },
 "nbformat": 4,
 "nbformat_minor": 5
}
