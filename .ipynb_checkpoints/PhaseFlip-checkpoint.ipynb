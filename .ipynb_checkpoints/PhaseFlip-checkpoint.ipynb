{
 "cells": [
  {
   "cell_type": "code",
   "execution_count": 6,
   "metadata": {
    "id": "W0WmKxe0y5op"
   },
   "outputs": [],
   "source": [
    "from qiskit import QuantumRegister, QuantumCircuit"
   ]
  },
  {
   "cell_type": "code",
   "execution_count": 21,
   "metadata": {
    "id": "VXGonKzOy_6o"
   },
   "outputs": [],
   "source": [
    "def s1(starmon):\n",
    "  starmon.h([0,1])\n",
    "  starmon.cnot(0,2)\n",
    "  starmon.cnot(1,2)\n",
    "  starmon.h([0,1])\n",
    "\n",
    "def s2(starmon):\n",
    "  starmon.h([1,3])\n",
    "  starmon.cnot(1,2)\n",
    "  starmon.cnot(3,2)\n",
    "  starmon.h([1,3])\n",
    "\n",
    "def encode(starmon):\n",
    "  starmon.cnot(0,1)\n",
    "  starmon.cnot(0,2)\n",
    "\n",
    "def X(starmon):\n",
    "    starmon.z([0,1,3])"
   ]
  },
  {
   "cell_type": "code",
   "execution_count": 22,
   "metadata": {
    "colab": {
     "base_uri": "https://localhost:8080/",
     "height": 35
    },
    "id": "xYDsUz261gCT",
    "outputId": "30480c4d-29d5-48ef-9bc3-05c4b69b7577"
   },
   "outputs": [
    {
     "data": {
      "text/html": [
       "<pre style=\"word-wrap: normal;white-space: pre;background: #fff0;line-height: 1.1;font-family: &quot;Courier New&quot;,Courier,monospace\">                         \n",
       "q_0: ────────────────────\n",
       "     ┌───┐     ┌───┐     \n",
       "q_1: ┤ H ├──■──┤ H ├─────\n",
       "     └───┘┌─┴─┐├───┤     \n",
       "q_2: ─────┤ X ├┤ X ├─────\n",
       "     ┌───┐└───┘└─┬─┘┌───┐\n",
       "q_3: ┤ H ├───────■──┤ H ├\n",
       "     └───┘          └───┘\n",
       "q_4: ────────────────────\n",
       "                         </pre>"
      ],
      "text/plain": [
       "                         \n",
       "q_0: ────────────────────\n",
       "     ┌───┐     ┌───┐     \n",
       "q_1: ┤ H ├──■──┤ H ├─────\n",
       "     └───┘┌─┴─┐├───┤     \n",
       "q_2: ─────┤ X ├┤ X ├─────\n",
       "     ┌───┐└───┘└─┬─┘┌───┐\n",
       "q_3: ┤ H ├───────■──┤ H ├\n",
       "     └───┘          └───┘\n",
       "q_4: ────────────────────\n",
       "                         "
      ]
     },
     "execution_count": 22,
     "metadata": {},
     "output_type": "execute_result"
    }
   ],
   "source": [
    "starmon = QuantumCircuit(5)\n",
    "s2(starmon)\n",
    "starmon.draw()"
   ]
  }
 ],
 "metadata": {
  "colab": {
   "name": "PhaseFlip.ipynb",
   "provenance": []
  },
  "kernelspec": {
   "display_name": "Python 3 (ipykernel)",
   "language": "python",
   "name": "python3"
  },
  "language_info": {
   "codemirror_mode": {
    "name": "ipython",
    "version": 3
   },
   "file_extension": ".py",
   "mimetype": "text/x-python",
   "name": "python",
   "nbconvert_exporter": "python",
   "pygments_lexer": "ipython3",
   "version": "3.10.1"
  }
 },
 "nbformat": 4,
 "nbformat_minor": 1
}
