{
 "cells": [
  {
   "cell_type": "code",
   "execution_count": 1,
   "id": "120f1850",
   "metadata": {},
   "outputs": [],
   "source": [
    "from qiskit import QuantumCircuit\n",
    "from qiskit.visualization import plot_histogram"
   ]
  },
  {
   "cell_type": "code",
   "execution_count": 3,
   "id": "1f583e5c",
   "metadata": {},
   "outputs": [],
   "source": [
    "def prep_zero(starmon):\n",
    "    starmon.reset([0,1,3])\n",
    "    \n",
    "def prep_plus(starmon):\n",
    "    starmon.h(2)\n",
    "    starmon.cx(2,1)\n",
    "    starmon.cx(2,3)\n",
    "    starmon.swap(0,2)\n",
    "    \n",
    "def Z(starmon):\n",
    "    starmon.z([0,1,3])\n",
    "    \n",
    "def X(starmon):\n",
    "    starmon.x([0,1,3])"
   ]
  },
  {
   "cell_type": "code",
   "execution_count": null,
   "id": "c604ee39",
   "metadata": {},
   "outputs": [],
   "source": []
  }
 ],
 "metadata": {
  "kernelspec": {
   "display_name": "Python 3 (ipykernel)",
   "language": "python",
   "name": "python3"
  },
  "language_info": {
   "codemirror_mode": {
    "name": "ipython",
    "version": 3
   },
   "file_extension": ".py",
   "mimetype": "text/x-python",
   "name": "python",
   "nbconvert_exporter": "python",
   "pygments_lexer": "ipython3",
   "version": "3.10.1"
  }
 },
 "nbformat": 4,
 "nbformat_minor": 5
}
