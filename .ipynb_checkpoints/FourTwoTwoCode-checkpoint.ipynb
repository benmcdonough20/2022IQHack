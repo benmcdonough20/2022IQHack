{
 "cells": [
  {
   "cell_type": "markdown",
   "id": "3c173c6f",
   "metadata": {},
   "source": [
    "# [4,2,2] Code"
   ]
  },
  {
   "cell_type": "code",
   "execution_count": 129,
   "id": "85bb1a4d",
   "metadata": {},
   "outputs": [],
   "source": [
    "from qiskit import QuantumCircuit, Aer\n",
    "from qiskit.visualization import plot_histogra"
   ]
  },
  {
   "cell_type": "code",
   "execution_count": 209,
   "id": "948ac5fb",
   "metadata": {},
   "outputs": [],
   "source": [
    "def meas_sx(starmon):\n",
    "    starmon.h(2)\n",
    "    starmon.cx(2,0)\n",
    "    starmon.cx(2,1)\n",
    "    starmon.cx(2,3)\n",
    "    starmon.cx(2,4)\n",
    "    starmon.h(2)\n",
    "    starmon.measure(2,0)\n",
    "    \n",
    "def meas_sz(starmon):\n",
    "    starmon.cx(0,2)\n",
    "    starmon.cx(1,2)\n",
    "    starmon.cx(3,2)\n",
    "    starmon.cx(4,2)\n",
    "    starmon.measure(2,0)\n",
    "    \n",
    "def Xa(starmon):\n",
    "    starmon.x([0,3])\n",
    "    starmon.i([1,4])\n",
    "\n",
    "def Xb(starmon):\n",
    "    starmon.x([0,1])\n",
    "    starmon.i([3,4])\n",
    "    \n",
    "def Za(starmon):\n",
    "    starmon.z([0,1])\n",
    "    starmon.i([3,4])\n",
    "    \n",
    "def Zb(starmon):\n",
    "    starmon.z([0,1])\n",
    "    starmon.i([1,4])\n",
    "    \n",
    "def prep_zero(starmon):\n",
    "    starmon.h(2)\n",
    "    starmon.cx(2,1)\n",
    "    starmon.cx(2,3)\n",
    "    starmon.cx(2,4)\n",
    "    starmon.swap(2,0)\n",
    "    \n",
    "def prep_zeroplus(starmon):\n",
    "    starmon.h(2)\n",
    "    starmon.cx(2,1)\n",
    "    starmon.swap(2,0)\n",
    "    starmon.h(2)\n",
    "    starmon.cx(2,3)\n",
    "    starmon.swap(2,4)\n",
    "    \n",
    "def prep_minusone(starmon):\n",
    "    starmon.h(2)\n",
    "    starmon.cx(2,3)\n",
    "    starmon.swap(2,0)\n",
    "    starmon.h(2)\n",
    "    starmon.cx(2,1)\n",
    "    starmon.swap(2,4)\n",
    "    starmon.y(3)\n",
    "    starmon.y(4)\n",
    "    \n",
    "def prep_plusplus(starmon):\n",
    "    starmon.h(2)\n",
    "    starmon.cx(2,0)\n",
    "    starmon.h(1)\n",
    "    starmon.cx(1,2)\n",
    "    starmon.swap(2,3)\n",
    "    starmon.h(2)\n",
    "    starmon.cx(2,1)\n",
    "    starmon.swap(2,4)"
   ]
  }
 ],
 "metadata": {
  "kernelspec": {
   "display_name": "Python 3 (ipykernel)",
   "language": "python",
   "name": "python3"
  },
  "language_info": {
   "codemirror_mode": {
    "name": "ipython",
    "version": 3
   },
   "file_extension": ".py",
   "mimetype": "text/x-python",
   "name": "python",
   "nbconvert_exporter": "python",
   "pygments_lexer": "ipython3",
   "version": "3.10.1"
  }
 },
 "nbformat": 4,
 "nbformat_minor": 5
}
